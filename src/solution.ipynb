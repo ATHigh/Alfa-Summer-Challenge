{
 "cells": [
  {
   "cell_type": "markdown",
   "id": "8cd9eb9a",
   "metadata": {},
   "source": [
    "# Import libraries"
   ]
  },
  {
   "cell_type": "code",
   "execution_count": 31,
   "id": "895a5f5e",
   "metadata": {},
   "outputs": [],
   "source": [
    "import pandas as pd\n",
    "import numpy as np\n",
    "import matplotlib.pyplot as plt\n",
    "from catboost import Pool, CatBoostClassifier\n",
    "from sklearn.linear_model import LogisticRegression\n",
    "from sklearn.model_selection import train_test_split\n",
    "from sklearn.metrics import classification_report, confusion_matrix"
   ]
  },
  {
   "cell_type": "markdown",
   "id": "dedb9057",
   "metadata": {},
   "source": [
    "# Upload data"
   ]
  },
  {
   "cell_type": "code",
   "execution_count": 11,
   "id": "3c3778d8",
   "metadata": {},
   "outputs": [],
   "source": [
    "df_txn = pd.read_parquet('../df_transaction.pa')\n",
    "df_train   = pd.read_parquet('../train.pa')"
   ]
  },
  {
   "cell_type": "code",
   "execution_count": 16,
   "id": "3f5a737c",
   "metadata": {},
   "outputs": [
    {
     "name": "stdout",
     "output_type": "stream",
     "text": [
      "<class 'pandas.core.frame.DataFrame'>\n",
      "RangeIndex: 70000 entries, 0 to 69999\n",
      "Data columns (total 2 columns):\n",
      " #   Column      Non-Null Count  Dtype\n",
      "---  ------      --------------  -----\n",
      " 0   client_num  70000 non-null  int64\n",
      " 1   target      70000 non-null  int64\n",
      "dtypes: int64(2)\n",
      "memory usage: 1.1 MB\n"
     ]
    }
   ],
   "source": [
    "df_train.info()"
   ]
  },
  {
   "cell_type": "code",
   "execution_count": 17,
   "id": "a3c87d91",
   "metadata": {},
   "outputs": [
    {
     "name": "stdout",
     "output_type": "stream",
     "text": [
      "<class 'pandas.core.frame.DataFrame'>\n",
      "RangeIndex: 13508155 entries, 0 to 13508154\n",
      "Data columns (total 5 columns):\n",
      " #   Column         Dtype         \n",
      "---  ------         -----         \n",
      " 0   client_num     int64         \n",
      " 1   date_time      datetime64[us]\n",
      " 2   mcc_code       object        \n",
      " 3   merchant_name  object        \n",
      " 4   amount         int64         \n",
      "dtypes: datetime64[us](1), int64(2), object(2)\n",
      "memory usage: 515.3+ MB\n"
     ]
    }
   ],
   "source": [
    "df_txn.info()"
   ]
  },
  {
   "cell_type": "code",
   "execution_count": 15,
   "id": "952665de",
   "metadata": {},
   "outputs": [
    {
     "data": {
      "text/plain": [
       "array([     0,     10,     11, ..., 109130, 109137, 109140],\n",
       "      shape=(39143,))"
      ]
     },
     "execution_count": 15,
     "metadata": {},
     "output_type": "execute_result"
    }
   ],
   "source": [
    "test_clients = (\n",
    "    df_txn.loc[~df_txn.client_num.isin(df_train.client_num), \"client_num\"]\n",
    "    .unique()\n",
    ")\n",
    "test_clients"
   ]
  },
  {
   "cell_type": "markdown",
   "id": "bf46d489",
   "metadata": {},
   "source": [
    "# EDA"
   ]
  },
  {
   "cell_type": "markdown",
   "id": "63322e41",
   "metadata": {},
   "source": [
    "Для начала посмотрим на общую статистиску по транзакциям из обучащей выборки"
   ]
  },
  {
   "cell_type": "code",
   "execution_count": 32,
   "id": "f1bac4f0",
   "metadata": {},
   "outputs": [
    {
     "data": {
      "text/html": [
       "<div>\n",
       "<style scoped>\n",
       "    .dataframe tbody tr th:only-of-type {\n",
       "        vertical-align: middle;\n",
       "    }\n",
       "\n",
       "    .dataframe tbody tr th {\n",
       "        vertical-align: top;\n",
       "    }\n",
       "\n",
       "    .dataframe thead th {\n",
       "        text-align: right;\n",
       "    }\n",
       "</style>\n",
       "<table border=\"1\" class=\"dataframe\">\n",
       "  <thead>\n",
       "    <tr style=\"text-align: right;\">\n",
       "      <th></th>\n",
       "      <th>client_num</th>\n",
       "      <th>date_time</th>\n",
       "      <th>amount</th>\n",
       "    </tr>\n",
       "  </thead>\n",
       "  <tbody>\n",
       "    <tr>\n",
       "      <th>count</th>\n",
       "      <td>8.679725e+06</td>\n",
       "      <td>8679725</td>\n",
       "      <td>8.679725e+06</td>\n",
       "    </tr>\n",
       "    <tr>\n",
       "      <th>mean</th>\n",
       "      <td>3.870308e+04</td>\n",
       "      <td>2024-08-16 14:10:40.342980</td>\n",
       "      <td>2.370734e+03</td>\n",
       "    </tr>\n",
       "    <tr>\n",
       "      <th>min</th>\n",
       "      <td>1.000000e+00</td>\n",
       "      <td>2024-07-01 00:00:00</td>\n",
       "      <td>0.000000e+00</td>\n",
       "    </tr>\n",
       "    <tr>\n",
       "      <th>25%</th>\n",
       "      <td>1.537000e+04</td>\n",
       "      <td>2024-07-24 15:26:00</td>\n",
       "      <td>1.240000e+02</td>\n",
       "    </tr>\n",
       "    <tr>\n",
       "      <th>50%</th>\n",
       "      <td>3.401200e+04</td>\n",
       "      <td>2024-08-16 20:20:00</td>\n",
       "      <td>3.150000e+02</td>\n",
       "    </tr>\n",
       "    <tr>\n",
       "      <th>75%</th>\n",
       "      <td>5.799000e+04</td>\n",
       "      <td>2024-09-08 14:16:00</td>\n",
       "      <td>8.200000e+02</td>\n",
       "    </tr>\n",
       "    <tr>\n",
       "      <th>max</th>\n",
       "      <td>1.091420e+05</td>\n",
       "      <td>2024-10-01 00:00:00</td>\n",
       "      <td>8.680000e+06</td>\n",
       "    </tr>\n",
       "    <tr>\n",
       "      <th>std</th>\n",
       "      <td>2.738887e+04</td>\n",
       "      <td>NaN</td>\n",
       "      <td>2.399349e+04</td>\n",
       "    </tr>\n",
       "  </tbody>\n",
       "</table>\n",
       "</div>"
      ],
      "text/plain": [
       "         client_num                   date_time        amount\n",
       "count  8.679725e+06                     8679725  8.679725e+06\n",
       "mean   3.870308e+04  2024-08-16 14:10:40.342980  2.370734e+03\n",
       "min    1.000000e+00         2024-07-01 00:00:00  0.000000e+00\n",
       "25%    1.537000e+04         2024-07-24 15:26:00  1.240000e+02\n",
       "50%    3.401200e+04         2024-08-16 20:20:00  3.150000e+02\n",
       "75%    5.799000e+04         2024-09-08 14:16:00  8.200000e+02\n",
       "max    1.091420e+05         2024-10-01 00:00:00  8.680000e+06\n",
       "std    2.738887e+04                         NaN  2.399349e+04"
      ]
     },
     "execution_count": 32,
     "metadata": {},
     "output_type": "execute_result"
    }
   ],
   "source": [
    "df_txn_train = df_txn.copy()\n",
    "df_txn_train = df_txn_train.loc[~df_txn_train.client_num.isin(test_clients)]\n",
    "df_txn_train.describe() # анализируем обучающую выборку"
   ]
  },
  {
   "cell_type": "markdown",
   "id": "05ef7d8d",
   "metadata": {},
   "source": [
    "Данные содержат транзакции с начала июля 2024 года по начало октября 2024. Минимальная транзакция равна 0, стоит ее просмотреть, возможно это выброс, также максимальная транзакция была на сумму свыше 8.5 млн у.е., необходимо так просмотреть mcc-код данный транзакции. В среднем за 3 месяца прошли транзакции прмиерно на сумму 23.5 тыс. у.е. (вероятно среднее завышено из-за одной транзакции в 8.6 млн у.е.)"
   ]
  },
  {
   "cell_type": "code",
   "execution_count": 33,
   "id": "98a90ad4",
   "metadata": {},
   "outputs": [
    {
     "data": {
      "text/html": [
       "<div>\n",
       "<style scoped>\n",
       "    .dataframe tbody tr th:only-of-type {\n",
       "        vertical-align: middle;\n",
       "    }\n",
       "\n",
       "    .dataframe tbody tr th {\n",
       "        vertical-align: top;\n",
       "    }\n",
       "\n",
       "    .dataframe thead th {\n",
       "        text-align: right;\n",
       "    }\n",
       "</style>\n",
       "<table border=\"1\" class=\"dataframe\">\n",
       "  <thead>\n",
       "    <tr style=\"text-align: right;\">\n",
       "      <th></th>\n",
       "      <th>client_num</th>\n",
       "      <th>date_time</th>\n",
       "      <th>mcc_code</th>\n",
       "      <th>merchant_name</th>\n",
       "      <th>amount</th>\n",
       "    </tr>\n",
       "  </thead>\n",
       "  <tbody>\n",
       "    <tr>\n",
       "      <th>3309738</th>\n",
       "      <td>15167</td>\n",
       "      <td>2024-09-16 20:06:00</td>\n",
       "      <td>5511</td>\n",
       "      <td>07568a5fe726092363fd4ea402b1bbb640dfd2b32e9454...</td>\n",
       "      <td>8680000</td>\n",
       "    </tr>\n",
       "  </tbody>\n",
       "</table>\n",
       "</div>"
      ],
      "text/plain": [
       "         client_num           date_time mcc_code  \\\n",
       "3309738       15167 2024-09-16 20:06:00     5511   \n",
       "\n",
       "                                             merchant_name   amount  \n",
       "3309738  07568a5fe726092363fd4ea402b1bbb640dfd2b32e9454...  8680000  "
      ]
     },
     "execution_count": 33,
     "metadata": {},
     "output_type": "execute_result"
    }
   ],
   "source": [
    "df_txn_train.loc[df_txn_train['amount'] > 8.6e+06]"
   ]
  },
  {
   "cell_type": "markdown",
   "id": "2b23b7c0",
   "metadata": {},
   "source": [
    "Клиент совершил транзакцию с кодом 5511, что означает \"Легковой и грузовой транспорт - продажа, сервис, ремонт, запчасти и лизинг\". Посмотрим на ящик с усами по данному атрибуту (amount)."
   ]
  },
  {
   "cell_type": "code",
   "execution_count": 120,
   "id": "3be67363",
   "metadata": {},
   "outputs": [
    {
     "data": {
      "text/plain": [
       "Text(0.5, 1.02, 'Box-plot over \"amount\"')"
      ]
     },
     "execution_count": 120,
     "metadata": {},
     "output_type": "execute_result"
    },
    {
     "data": {
      "image/png": "[encoded data removed]",
      "text/plain": [
       "<Figure size 800x700 with 2 Axes>"
      ]
     },
     "metadata": {},
     "output_type": "display_data"
    }
   ],
   "source": [
    "fig, axs = plt.subplots(1, 2, figsize=(8,7))\n",
    "\n",
    "axs[0].boxplot(df_txn_train['amount'], showfliers=False, showmeans=True)\n",
    "axs[0].set_title('box-plot without outliers', pad=10)\n",
    "axs[0].grid(axis='y')\n",
    "\n",
    "axs[1].boxplot(df_txn_train['amount'])\n",
    "axs[1].set_title('box-plot with outliers', pad=10)\n",
    "axs[1].grid(axis='y')\n",
    "\n",
    "fig.text(0.01, 0.5, 'amount', \n",
    "         va='center', rotation='vertical', fontsize=12)\n",
    "\n",
    "plt.tight_layout(pad=3.0) \n",
    "fig.suptitle('Box-plot over \"amount\"', y=1.02, fontsize=14)"
   ]
  },
  {
   "cell_type": "markdown",
   "id": "497f7114",
   "metadata": {},
   "source": [
    "Из графика \"ящик с усами\" видно, что основная доля сумм транзакций приходится до 1750 у.е.\n",
    "Транзакцию в 8.6 млн у.е. будем считать выбросами, а также все, что выше 95 перцентиля"
   ]
  },
  {
   "cell_type": "markdown",
   "id": "87e5ca87",
   "metadata": {},
   "source": [
    "Для анализа не только количественных атрибутов, воспользуемся интепретацией mcc кодов\n",
    "https://mcc-codes.ru/code / https://mcc-cod.ru/codes/"
   ]
  },
  {
   "cell_type": "code",
   "execution_count": 72,
   "id": "7e935a5a",
   "metadata": {},
   "outputs": [
    {
     "name": "stdout",
     "output_type": "stream",
     "text": [
      "Всего уникальных mcc кодов за 3 месяца - 315\n"
     ]
    }
   ],
   "source": [
    "print(f\"Всего уникальных mcc кодов за 3 месяца - {df_txn_train['mcc_code'].nunique()}\")"
   ]
  },
  {
   "cell_type": "code",
   "execution_count": 69,
   "id": "d19537eb",
   "metadata": {},
   "outputs": [
    {
     "data": {
      "text/plain": [
       "mcc_code\n",
       "5411    29.645824\n",
       "5499    11.292063\n",
       "5814    10.628240\n",
       "4131     5.420033\n",
       "3990     3.982258\n",
       "5541     2.915484\n",
       "5912     2.543882\n",
       "5921     2.470827\n",
       "5812     2.202697\n",
       "6011     2.156336\n",
       "Name: proportion, dtype: float64"
      ]
     },
     "execution_count": 69,
     "metadata": {},
     "output_type": "execute_result"
    }
   ],
   "source": [
    "df_txn_train['mcc_code'].value_counts(normalize=True).sort_values(ascending=False)[:10] * 100"
   ]
  },
  {
   "cell_type": "markdown",
   "id": "01a1222e",
   "metadata": {},
   "source": [
    "За 3 месяца преобладали транзакции с кодами 5411, 5499 и 5814, им соотвествуют \"Продуктовые магазины, супермаркеты\", \"Различные продовольственные магазины - рынки, магазины со спец. ассортиментом...\" и \"Рестораны быстрого обслуживания\".\n",
    "\n",
    "Транзакции с кодом 4131 - \"Автобусные линии, туристические автобусы\" заняли ~5.5%, а 3990 относится к \"экосистема Яндекса\".\n",
    "\n",
    " Остальные категории менее 4-5%."
   ]
  },
  {
   "cell_type": "markdown",
   "id": "6b59e70a",
   "metadata": {},
   "source": [
    "Проверим, на сколько сбалансированы классы"
   ]
  },
  {
   "cell_type": "code",
   "execution_count": 27,
   "id": "33cb38a9",
   "metadata": {},
   "outputs": [
    {
     "data": {
      "text/plain": [
       "target\n",
       "1    25.742857\n",
       "0    21.558571\n",
       "2    14.104286\n",
       "4    11.477143\n",
       "3    11.410000\n",
       "5     7.867143\n",
       "6     7.840000\n",
       "Name: proportion, dtype: float64"
      ]
     },
     "execution_count": 27,
     "metadata": {},
     "output_type": "execute_result"
    }
   ],
   "source": [
    "df_train['target'].value_counts(normalize=True) * 100"
   ]
  },
  {
   "cell_type": "code",
   "execution_count": null,
   "id": "debac89c",
   "metadata": {},
   "outputs": [],
   "source": [
    "df_train['client_num']"
   ]
  },
  {
   "cell_type": "markdown",
   "id": "76f8393a",
   "metadata": {},
   "source": [
    "Датасет несбалансирован, необходимо в среднем по 14% на каждый класс. В предосталевнных данных преварилируют классы 0, 1, а классы 6 и 5 имеют низкую долю. Однако нас в основном интересуют клиенты относящиес к классам от 0 до 2, они имеют больший вес при расчете метрики"
   ]
  },
  {
   "cell_type": "markdown",
   "id": "0420f6cb",
   "metadata": {},
   "source": [
    "Посмотрим на распределение средних трат в месяц в разрезе групп клиентов (от 0 до 6)"
   ]
  },
  {
   "cell_type": "code",
   "execution_count": 114,
   "id": "1a84f699",
   "metadata": {},
   "outputs": [],
   "source": [
    "df_train_merged = df_txn_train.merge(df_train, how='inner', on='client_num')"
   ]
  },
  {
   "cell_type": "code",
   "execution_count": 117,
   "id": "8e05f3ac",
   "metadata": {},
   "outputs": [],
   "source": [
    "df_train_merged['month'] = df_train_merged['date_time'].dt.month\n",
    "df_train_agg = df_train_merged.groupby(by=['client_num', 'target']).agg(\n",
    "    mean_amount=('amount', 'mean')\n",
    ").groupby('target')['mean_amount'].apply(list)\n",
    "# df_train_agg.head(20)"
   ]
  },
  {
   "cell_type": "code",
   "execution_count": 119,
   "id": "a43023c8",
   "metadata": {},
   "outputs": [
    {
     "name": "stderr",
     "output_type": "stream",
     "text": [
      "/var/folders/_2/3r2pyzk16rdbwgbf6s6rlngr0000gn/T/ipykernel_67242/2364641745.py:2: MatplotlibDeprecationWarning: The 'labels' parameter of boxplot() has been renamed 'tick_labels' since Matplotlib 3.9; support for the old name will be dropped in 3.11.\n",
      "  plt.boxplot(df_train_agg.values, labels=df_train_agg.index, showfliers=False, showmeans=True)\n"
     ]
    },
    {
     "data": {
      "image/png": "[encoded data removed]",
      "text/plain": [
       "<Figure size 1000x700 with 1 Axes>"
      ]
     },
     "metadata": {},
     "output_type": "display_data"
    }
   ],
   "source": [
    "plt.figure(figsize=(10,7))\n",
    "plt.boxplot(df_train_agg.values, labels=df_train_agg.index, showfliers=False, showmeans=True)\n",
    "plt.title('Box-plots over mean amount per month client group')\n",
    "plt.ylabel('amount')\n",
    "plt.xlabel('Client group')\n",
    "plt.grid(axis='y')"
   ]
  },
  {
   "cell_type": "markdown",
   "id": "0d4cf03c",
   "metadata": {},
   "source": [
    "Группа 5 и 6 довольно отчетливо выделеются на фоне других, а группы с 1 по 4 очень похожи друг на жруга по телам ящиков, медианам и средним значениям\n",
    "\n",
    "Необходимо выделить явный атрибут, который помогал бы модели различать между собой классы, хотя бы не путать 0 класс с 4 и 5, ткк как они похожи друг на друга."
   ]
  },
  {
   "cell_type": "markdown",
   "id": "9faba768",
   "metadata": {},
   "source": [
    "# Feature engineering"
   ]
  },
  {
   "cell_type": "code",
   "execution_count": 23,
   "id": "9d9bca7e",
   "metadata": {},
   "outputs": [],
   "source": [
    "# добавить кол-во транзакций за прошлый месяц\n",
    "# сумма за прошлый месяц потраченная \n",
    "# баланс к концу прошлого месяца (считаем 28-30 число)\n",
    "# средние траты\n",
    "# отношение пополнений к тратам (в основном тратит или пополняет)\n",
    "# кластеризовать клиентам по суммам трат? (гипотеза, что с большими тратами менее вероятно оставят нулевйо баланс)\n",
    "# количество mcc-кодов определенной категории (подумать какие интересуют нас больше всего, возможно посмотреть на тех, у кого баланс около нуля, какие у них частые mcc коды)\n",
    "# баланс за последнюю неделю"
   ]
  },
  {
   "cell_type": "code",
   "execution_count": null,
   "id": "69e0f19a",
   "metadata": {},
   "outputs": [],
   "source": []
  },
  {
   "cell_type": "markdown",
   "id": "e71acc42",
   "metadata": {},
   "source": [
    "# Metric"
   ]
  },
  {
   "cell_type": "code",
   "execution_count": null,
   "id": "45ba0a89",
   "metadata": {},
   "outputs": [],
   "source": [
    "# Веса по классам\n",
    "class_weights = {\n",
    "    0: 1.00,\n",
    "    1: 0.72,\n",
    "    2: 0.52,\n",
    "    3: 0.37,\n",
    "    4: 0.27,\n",
    "    5: 0.19,\n",
    "    6: 0.14,\n",
    "    7: 0.1\n",
    "}\n",
    "\n",
    "def wmae(y_true, y_pred, weights_map):\n",
    "    weights = np.array([weights_map.get(y, 0.0) for y in y_true])\n",
    "    abs_errors = np.abs(y_true - y_pred)\n",
    "    return np.sum(weights * abs_errors) / np.sum(weights)\n",
    "\n",
    "# wmae_score = wmae(y_test, y_pred, class_weights)\n",
    "# print(\"WMAE:\", wmae_score)"
   ]
  },
  {
   "cell_type": "markdown",
   "id": "82b6bde1",
   "metadata": {},
   "source": [
    "# Models"
   ]
  },
  {
   "cell_type": "code",
   "execution_count": null,
   "id": "5674bb5e",
   "metadata": {},
   "outputs": [],
   "source": [
    "# X_train, X_test, y_train, y_test = train_test_split(X, y, stratify=y, test_size=0.2, random_state=23)"
   ]
  },
  {
   "cell_type": "markdown",
   "id": "fb375ae0",
   "metadata": {},
   "source": [
    "## Logistic regression"
   ]
  },
  {
   "cell_type": "code",
   "execution_count": null,
   "id": "f623f958",
   "metadata": {},
   "outputs": [],
   "source": [
    "log_reg = LogisticRegression(penalty='elasticnet', class_weight=class_weights, max_iter=150)\n",
    "\n"
   ]
  },
  {
   "cell_type": "markdown",
   "id": "cee6c41a",
   "metadata": {},
   "source": [
    "## Catboost"
   ]
  },
  {
   "cell_type": "code",
   "execution_count": null,
   "id": "e3e5210a",
   "metadata": {},
   "outputs": [],
   "source": []
  },
  {
   "cell_type": "markdown",
   "id": "56dac516",
   "metadata": {},
   "source": [
    "# SHAP values"
   ]
  },
  {
   "cell_type": "code",
   "execution_count": null,
   "id": "9d1c4477",
   "metadata": {},
   "outputs": [],
   "source": []
  }
 ],
 "metadata": {
  "kernelspec": {
   "display_name": ".venv",
   "language": "python",
   "name": "python3"
  },
  "language_info": {
   "codemirror_mode": {
    "name": "ipython",
    "version": 3
   },
   "file_extension": ".py",
   "mimetype": "text/x-python",
   "name": "python",
   "nbconvert_exporter": "python",
   "pygments_lexer": "ipython3",
   "version": "3.12.6"
  }
 },
 "nbformat": 4,
 "nbformat_minor": 5
}
