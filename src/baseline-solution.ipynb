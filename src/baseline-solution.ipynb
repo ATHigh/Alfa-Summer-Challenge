{
 "cells": [
  {
   "cell_type": "code",
   "execution_count": 1,
   "id": "ebcd30d0",
   "metadata": {
    "_cell_guid": "b1076dfc-b9ad-4769-8c92-a6c4dae69d19",
    "_uuid": "8f2839f25d086af736a60e9eeb907d3b93b6e0e5",
    "execution": {
     "iopub.execute_input": "2025-06-09T14:32:04.367105Z",
     "iopub.status.busy": "2025-06-09T14:32:04.366640Z",
     "iopub.status.idle": "2025-06-09T14:32:06.644699Z",
     "shell.execute_reply": "2025-06-09T14:32:06.643359Z"
    },
    "papermill": {
     "duration": 2.284353,
     "end_time": "2025-06-09T14:32:06.646989",
     "exception": false,
     "start_time": "2025-06-09T14:32:04.362636",
     "status": "completed"
    },
    "tags": []
   },
   "outputs": [],
   "source": [
    "import pandas as pd\n",
    "import numpy as np"
   ]
  },
  {
   "cell_type": "code",
   "execution_count": 2,
   "id": "1b598e21",
   "metadata": {
    "execution": {
     "iopub.execute_input": "2025-06-09T14:32:06.654747Z",
     "iopub.status.busy": "2025-06-09T14:32:06.654127Z",
     "iopub.status.idle": "2025-06-09T14:32:16.247261Z",
     "shell.execute_reply": "2025-06-09T14:32:16.245959Z"
    },
    "papermill": {
     "duration": 9.599961,
     "end_time": "2025-06-09T14:32:16.249846",
     "exception": false,
     "start_time": "2025-06-09T14:32:06.649885",
     "status": "completed"
    },
    "tags": []
   },
   "outputs": [],
   "source": [
    "# Загрузка данных\n",
    "df_train = pd.read_parquet(\"/kaggle/input/alpha-summer-challenge/train.pa\")\n",
    "df_txn   = pd.read_parquet(\"/kaggle/input/alpha-summer-challenge/df_transaction.pa\")"
   ]
  },
  {
   "cell_type": "code",
   "execution_count": 3,
   "id": "46ed084f",
   "metadata": {
    "execution": {
     "iopub.execute_input": "2025-06-09T14:32:16.256915Z",
     "iopub.status.busy": "2025-06-09T14:32:16.256543Z",
     "iopub.status.idle": "2025-06-09T14:32:16.508577Z",
     "shell.execute_reply": "2025-06-09T14:32:16.507375Z"
    },
    "papermill": {
     "duration": 0.258028,
     "end_time": "2025-06-09T14:32:16.510491",
     "exception": false,
     "start_time": "2025-06-09T14:32:16.252463",
     "status": "completed"
    },
    "tags": []
   },
   "outputs": [],
   "source": [
    "# Определяем клиентов в тесте\n",
    "test_clients = (\n",
    "    df_txn.loc[~df_txn.client_num.isin(df_train.client_num), \"client_num\"]\n",
    "    .unique()\n",
    ")"
   ]
  },
  {
   "cell_type": "code",
   "execution_count": 4,
   "id": "456c5151",
   "metadata": {
    "execution": {
     "iopub.execute_input": "2025-06-09T14:32:16.516453Z",
     "iopub.status.busy": "2025-06-09T14:32:16.516025Z",
     "iopub.status.idle": "2025-06-09T14:32:16.533809Z",
     "shell.execute_reply": "2025-06-09T14:32:16.532751Z"
    },
    "papermill": {
     "duration": 0.022762,
     "end_time": "2025-06-09T14:32:16.535572",
     "exception": false,
     "start_time": "2025-06-09T14:32:16.512810",
     "status": "completed"
    },
    "tags": []
   },
   "outputs": [],
   "source": [
    "# Вычисляем распределение классов в train\n",
    "class_probs = (\n",
    "    df_train[\"target\"]\n",
    "    .value_counts(normalize=True)\n",
    "    .sort_index()\n",
    "    .values\n",
    ")"
   ]
  },
  {
   "cell_type": "code",
   "execution_count": 5,
   "id": "b2d64a36",
   "metadata": {
    "execution": {
     "iopub.execute_input": "2025-06-09T14:32:16.541311Z",
     "iopub.status.busy": "2025-06-09T14:32:16.540901Z",
     "iopub.status.idle": "2025-06-09T14:32:16.551546Z",
     "shell.execute_reply": "2025-06-09T14:32:16.550402Z"
    },
    "papermill": {
     "duration": 0.015426,
     "end_time": "2025-06-09T14:32:16.553294",
     "exception": false,
     "start_time": "2025-06-09T14:32:16.537868",
     "status": "completed"
    },
    "tags": []
   },
   "outputs": [],
   "source": [
    "# Для каждого тестового клиента случайно выбираем класс согласно распределению классов в обучающей выборке\n",
    "rng = np.random.default_rng(seed=42)\n",
    "\n",
    "submission = pd.DataFrame({\n",
    "    \"client_num\": test_clients,\n",
    "    \"target\": rng.choice(np.arange(7), size=len(test_clients), p=class_probs)\n",
    "})"
   ]
  },
  {
   "cell_type": "code",
   "execution_count": 6,
   "id": "52a9669e",
   "metadata": {
    "execution": {
     "iopub.execute_input": "2025-06-09T14:32:16.558895Z",
     "iopub.status.busy": "2025-06-09T14:32:16.558525Z",
     "iopub.status.idle": "2025-06-09T14:32:16.601376Z",
     "shell.execute_reply": "2025-06-09T14:32:16.600216Z"
    },
    "papermill": {
     "duration": 0.047939,
     "end_time": "2025-06-09T14:32:16.603404",
     "exception": false,
     "start_time": "2025-06-09T14:32:16.555465",
     "status": "completed"
    },
    "tags": []
   },
   "outputs": [],
   "source": [
    "# Сохраняем сабмит\n",
    "submission.to_csv(\"submission.csv\", index=False)"
   ]
  }
 ],
 "metadata": {
  "kaggle": {
   "accelerator": "none",
   "dataSources": [
    {
     "databundleVersionId": 12637092,
     "isSourceIdPinned": false,
     "sourceId": 104854,
     "sourceType": "competition"
    }
   ],
   "dockerImageVersionId": 31040,
   "isGpuEnabled": false,
   "isInternetEnabled": true,
   "language": "python",
   "sourceType": "notebook"
  },
  "kernelspec": {
   "display_name": ".venv",
   "language": "python",
   "name": "python3"
  },
  "language_info": {
   "codemirror_mode": {
    "name": "ipython",
    "version": 3
   },
   "file_extension": ".py",
   "mimetype": "text/x-python",
   "name": "python",
   "nbconvert_exporter": "python",
   "pygments_lexer": "ipython3",
   "version": "3.12.6"
  },
  "papermill": {
   "default_parameters": {},
   "duration": 18.286478,
   "end_time": "2025-06-09T14:32:17.427138",
   "environment_variables": {},
   "exception": null,
   "input_path": "__notebook__.ipynb",
   "output_path": "__notebook__.ipynb",
   "parameters": {},
   "start_time": "2025-06-09T14:31:59.140660",
   "version": "2.6.0"
  }
 },
 "nbformat": 4,
 "nbformat_minor": 5
}
