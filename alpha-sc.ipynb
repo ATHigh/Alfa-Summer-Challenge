{
 "cells": [
  {
   "cell_type": "code",
   "execution_count": 1,
   "id": "6980ef4b",
   "metadata": {
    "_cell_guid": "b1076dfc-b9ad-4769-8c92-a6c4dae69d19",
    "_uuid": "8f2839f25d086af736a60e9eeb907d3b93b6e0e5",
    "execution": {
     "iopub.execute_input": "2025-06-22T13:59:58.350531Z",
     "iopub.status.busy": "2025-06-22T13:59:58.350174Z",
     "iopub.status.idle": "2025-06-22T14:00:00.242428Z",
     "shell.execute_reply": "2025-06-22T14:00:00.241346Z"
    },
    "jupyter": {
     "source_hidden": true
    },
    "papermill": {
     "duration": 1.899369,
     "end_time": "2025-06-22T14:00:00.244192",
     "exception": false,
     "start_time": "2025-06-22T13:59:58.344823",
     "status": "completed"
    },
    "tags": []
   },
   "outputs": [
    {
     "name": "stdout",
     "output_type": "stream",
     "text": [
      "/kaggle/input/alpha-summer-challenge/df_transaction.pa\n",
      "/kaggle/input/alpha-summer-challenge/train.pa\n"
     ]
    }
   ],
   "source": [
    "# This Python 3 environment comes with many helpful analytics libraries installed\n",
    "# It is defined by the kaggle/python Docker image: https://github.com/kaggle/docker-python\n",
    "# For example, here's several helpful packages to load\n",
    "\n",
    "import numpy as np # linear algebra\n",
    "import pandas as pd # data processing, CSV file I/O (e.g. pd.read_csv)\n",
    "\n",
    "# Input data files are available in the read-only \"../input/\" directory\n",
    "# For example, running this (by clicking run or pressing Shift+Enter) will list all files under the input directory\n",
    "\n",
    "import os\n",
    "for dirname, _, filenames in os.walk('/kaggle/input'):\n",
    "    for filename in filenames:\n",
    "        print(os.path.join(dirname, filename))\n",
    "\n",
    "# You can write up to 20GB to the current directory (/kaggle/working/) that gets preserved as output when you create a version using \"Save & Run All\" \n",
    "# You can also write temporary files to /kaggle/temp/, but they won't be saved outside of the current session"
   ]
  },
  {
   "cell_type": "markdown",
   "id": "6b09a8a1",
   "metadata": {
    "papermill": {
     "duration": 0.003601,
     "end_time": "2025-06-22T14:00:00.252398",
     "exception": false,
     "start_time": "2025-06-22T14:00:00.248797",
     "status": "completed"
    },
    "tags": []
   },
   "source": [
    "**Подготовка данных**"
   ]
  },
  {
   "cell_type": "code",
   "execution_count": 2,
   "id": "9eefdca6",
   "metadata": {
    "execution": {
     "iopub.execute_input": "2025-06-22T14:00:00.261790Z",
     "iopub.status.busy": "2025-06-22T14:00:00.261321Z",
     "iopub.status.idle": "2025-06-22T14:00:00.265863Z",
     "shell.execute_reply": "2025-06-22T14:00:00.264895Z"
    },
    "papermill": {
     "duration": 0.010764,
     "end_time": "2025-06-22T14:00:00.267437",
     "exception": false,
     "start_time": "2025-06-22T14:00:00.256673",
     "status": "completed"
    },
    "tags": []
   },
   "outputs": [],
   "source": [
    "import pandas as pd\n",
    "import numpy as np"
   ]
  },
  {
   "cell_type": "code",
   "execution_count": 3,
   "id": "8e29772f",
   "metadata": {
    "execution": {
     "iopub.execute_input": "2025-06-22T14:00:00.275985Z",
     "iopub.status.busy": "2025-06-22T14:00:00.275666Z",
     "iopub.status.idle": "2025-06-22T14:00:09.633055Z",
     "shell.execute_reply": "2025-06-22T14:00:09.631710Z"
    },
    "papermill": {
     "duration": 9.36431,
     "end_time": "2025-06-22T14:00:09.635444",
     "exception": false,
     "start_time": "2025-06-22T14:00:00.271134",
     "status": "completed"
    },
    "tags": []
   },
   "outputs": [],
   "source": [
    "# Загрузка данных\n",
    "df_train = pd.read_parquet(\"/kaggle/input/alpha-summer-challenge/train.pa\")\n",
    "df_txn   = pd.read_parquet(\"/kaggle/input/alpha-summer-challenge/df_transaction.pa\")"
   ]
  },
  {
   "cell_type": "code",
   "execution_count": 4,
   "id": "93310db8",
   "metadata": {
    "execution": {
     "iopub.execute_input": "2025-06-22T14:00:09.649163Z",
     "iopub.status.busy": "2025-06-22T14:00:09.648829Z",
     "iopub.status.idle": "2025-06-22T14:00:09.679912Z",
     "shell.execute_reply": "2025-06-22T14:00:09.678671Z"
    },
    "papermill": {
     "duration": 0.040636,
     "end_time": "2025-06-22T14:00:09.682415",
     "exception": false,
     "start_time": "2025-06-22T14:00:09.641779",
     "status": "completed"
    },
    "tags": []
   },
   "outputs": [
    {
     "data": {
      "text/html": [
       "<div>\n",
       "<style scoped>\n",
       "    .dataframe tbody tr th:only-of-type {\n",
       "        vertical-align: middle;\n",
       "    }\n",
       "\n",
       "    .dataframe tbody tr th {\n",
       "        vertical-align: top;\n",
       "    }\n",
       "\n",
       "    .dataframe thead th {\n",
       "        text-align: right;\n",
       "    }\n",
       "</style>\n",
       "<table border=\"1\" class=\"dataframe\">\n",
       "  <thead>\n",
       "    <tr style=\"text-align: right;\">\n",
       "      <th></th>\n",
       "      <th>client_num</th>\n",
       "      <th>date_time</th>\n",
       "      <th>mcc_code</th>\n",
       "      <th>merchant_name</th>\n",
       "      <th>amount</th>\n",
       "    </tr>\n",
       "  </thead>\n",
       "  <tbody>\n",
       "    <tr>\n",
       "      <th>0</th>\n",
       "      <td>0</td>\n",
       "      <td>2024-07-18 16:04:00</td>\n",
       "      <td>8099</td>\n",
       "      <td>a011100358d0f73ea8f3e860ef5564e3ba9cb217b7b90c...</td>\n",
       "      <td>2900</td>\n",
       "    </tr>\n",
       "    <tr>\n",
       "      <th>1</th>\n",
       "      <td>0</td>\n",
       "      <td>2024-07-22 16:31:00</td>\n",
       "      <td>5411</td>\n",
       "      <td>f3855606fc7244ec2f37ea01a4b2b66933d0e965bf4aec...</td>\n",
       "      <td>455</td>\n",
       "    </tr>\n",
       "    <tr>\n",
       "      <th>2</th>\n",
       "      <td>0</td>\n",
       "      <td>2024-07-24 16:23:00</td>\n",
       "      <td>5541</td>\n",
       "      <td>786270fa33ad4ac2a3c0e52e888005aa7f98beadbf8986...</td>\n",
       "      <td>1003</td>\n",
       "    </tr>\n",
       "    <tr>\n",
       "      <th>3</th>\n",
       "      <td>0</td>\n",
       "      <td>2024-07-28 15:51:00</td>\n",
       "      <td>5691</td>\n",
       "      <td>54887ad4a8df7e260a3ac85e59128a947c50d4423f6330...</td>\n",
       "      <td>1480</td>\n",
       "    </tr>\n",
       "    <tr>\n",
       "      <th>4</th>\n",
       "      <td>0</td>\n",
       "      <td>2024-07-28 18:00:00</td>\n",
       "      <td>5331</td>\n",
       "      <td>21617559a372c7cca155208c87be6c84ce97b5f8775589...</td>\n",
       "      <td>88</td>\n",
       "    </tr>\n",
       "  </tbody>\n",
       "</table>\n",
       "</div>"
      ],
      "text/plain": [
       "   client_num           date_time mcc_code  \\\n",
       "0           0 2024-07-18 16:04:00     8099   \n",
       "1           0 2024-07-22 16:31:00     5411   \n",
       "2           0 2024-07-24 16:23:00     5541   \n",
       "3           0 2024-07-28 15:51:00     5691   \n",
       "4           0 2024-07-28 18:00:00     5331   \n",
       "\n",
       "                                       merchant_name  amount  \n",
       "0  a011100358d0f73ea8f3e860ef5564e3ba9cb217b7b90c...    2900  \n",
       "1  f3855606fc7244ec2f37ea01a4b2b66933d0e965bf4aec...     455  \n",
       "2  786270fa33ad4ac2a3c0e52e888005aa7f98beadbf8986...    1003  \n",
       "3  54887ad4a8df7e260a3ac85e59128a947c50d4423f6330...    1480  \n",
       "4  21617559a372c7cca155208c87be6c84ce97b5f8775589...      88  "
      ]
     },
     "execution_count": 4,
     "metadata": {},
     "output_type": "execute_result"
    }
   ],
   "source": [
    "df_txn.head()"
   ]
  },
  {
   "cell_type": "code",
   "execution_count": 5,
   "id": "7a0a6884",
   "metadata": {
    "execution": {
     "iopub.execute_input": "2025-06-22T14:00:09.693508Z",
     "iopub.status.busy": "2025-06-22T14:00:09.693187Z",
     "iopub.status.idle": "2025-06-22T14:00:10.612488Z",
     "shell.execute_reply": "2025-06-22T14:00:10.611152Z"
    },
    "papermill": {
     "duration": 0.927243,
     "end_time": "2025-06-22T14:00:10.614419",
     "exception": false,
     "start_time": "2025-06-22T14:00:09.687176",
     "status": "completed"
    },
    "tags": []
   },
   "outputs": [],
   "source": [
    "# Создание нового датафрейма с агрегированными данными\n",
    "agg = df_txn.groupby(['client_num']).agg(\n",
    "    total_amount=('amount', 'sum'),                     \n",
    "    mean_amount=('amount', 'mean'),                     \n",
    "    std_amount=('amount', 'std'),                    \n",
    "    max_amount=('amount', 'max'),                      \n",
    "    min_amount=('amount', 'min'),                      \n",
    "    txn_count=('amount', 'count'),                     \n",
    ").reset_index()"
   ]
  },
  {
   "cell_type": "code",
   "execution_count": 6,
   "id": "92c18677",
   "metadata": {
    "execution": {
     "iopub.execute_input": "2025-06-22T14:00:10.626209Z",
     "iopub.status.busy": "2025-06-22T14:00:10.625717Z",
     "iopub.status.idle": "2025-06-22T14:00:10.739612Z",
     "shell.execute_reply": "2025-06-22T14:00:10.738448Z"
    },
    "papermill": {
     "duration": 0.122175,
     "end_time": "2025-06-22T14:00:10.741667",
     "exception": false,
     "start_time": "2025-06-22T14:00:10.619492",
     "status": "completed"
    },
    "tags": []
   },
   "outputs": [],
   "source": [
    "# Разделение датафрейма для обучения и теста\n",
    "# Получение списка клиентов, которые есть в df_train\n",
    "train_clients = set(df_train['client_num'].unique())\n",
    "\n",
    "# Разделяем df_txn на две части\n",
    "agg_train = agg[agg['client_num'].isin(train_clients)]\n",
    "agg_test = agg[~agg['client_num'].isin(train_clients)]"
   ]
  },
  {
   "cell_type": "code",
   "execution_count": 7,
   "id": "04c0e924",
   "metadata": {
    "execution": {
     "iopub.execute_input": "2025-06-22T14:00:10.750995Z",
     "iopub.status.busy": "2025-06-22T14:00:10.750673Z",
     "iopub.status.idle": "2025-06-22T14:00:10.782414Z",
     "shell.execute_reply": "2025-06-22T14:00:10.781227Z"
    },
    "papermill": {
     "duration": 0.038452,
     "end_time": "2025-06-22T14:00:10.784107",
     "exception": false,
     "start_time": "2025-06-22T14:00:10.745655",
     "status": "completed"
    },
    "tags": []
   },
   "outputs": [],
   "source": [
    "# Добавление target к agg_train\n",
    "agg_train_with_target = agg_train.merge(\n",
    "    df_train[['client_num', 'target']], \n",
    "    on='client_num',                     \n",
    "    how='left'                           \n",
    ")"
   ]
  },
  {
   "cell_type": "code",
   "execution_count": 8,
   "id": "af3bc26c",
   "metadata": {
    "execution": {
     "iopub.execute_input": "2025-06-22T14:00:10.793234Z",
     "iopub.status.busy": "2025-06-22T14:00:10.792938Z",
     "iopub.status.idle": "2025-06-22T14:00:10.805174Z",
     "shell.execute_reply": "2025-06-22T14:00:10.804246Z"
    },
    "papermill": {
     "duration": 0.019006,
     "end_time": "2025-06-22T14:00:10.807178",
     "exception": false,
     "start_time": "2025-06-22T14:00:10.788172",
     "status": "completed"
    },
    "tags": []
   },
   "outputs": [
    {
     "data": {
      "text/html": [
       "<div>\n",
       "<style scoped>\n",
       "    .dataframe tbody tr th:only-of-type {\n",
       "        vertical-align: middle;\n",
       "    }\n",
       "\n",
       "    .dataframe tbody tr th {\n",
       "        vertical-align: top;\n",
       "    }\n",
       "\n",
       "    .dataframe thead th {\n",
       "        text-align: right;\n",
       "    }\n",
       "</style>\n",
       "<table border=\"1\" class=\"dataframe\">\n",
       "  <thead>\n",
       "    <tr style=\"text-align: right;\">\n",
       "      <th></th>\n",
       "      <th>client_num</th>\n",
       "      <th>total_amount</th>\n",
       "      <th>mean_amount</th>\n",
       "      <th>std_amount</th>\n",
       "      <th>max_amount</th>\n",
       "      <th>min_amount</th>\n",
       "      <th>txn_count</th>\n",
       "      <th>target</th>\n",
       "    </tr>\n",
       "  </thead>\n",
       "  <tbody>\n",
       "    <tr>\n",
       "      <th>0</th>\n",
       "      <td>1</td>\n",
       "      <td>863878</td>\n",
       "      <td>3599.491667</td>\n",
       "      <td>11704.843812</td>\n",
       "      <td>100000</td>\n",
       "      <td>6</td>\n",
       "      <td>240</td>\n",
       "      <td>4</td>\n",
       "    </tr>\n",
       "    <tr>\n",
       "      <th>1</th>\n",
       "      <td>2</td>\n",
       "      <td>344108</td>\n",
       "      <td>1147.026667</td>\n",
       "      <td>2629.178018</td>\n",
       "      <td>24496</td>\n",
       "      <td>23</td>\n",
       "      <td>300</td>\n",
       "      <td>5</td>\n",
       "    </tr>\n",
       "    <tr>\n",
       "      <th>2</th>\n",
       "      <td>3</td>\n",
       "      <td>1621825</td>\n",
       "      <td>11032.823129</td>\n",
       "      <td>86498.559476</td>\n",
       "      <td>1000000</td>\n",
       "      <td>1</td>\n",
       "      <td>147</td>\n",
       "      <td>3</td>\n",
       "    </tr>\n",
       "    <tr>\n",
       "      <th>3</th>\n",
       "      <td>4</td>\n",
       "      <td>199796</td>\n",
       "      <td>1637.672131</td>\n",
       "      <td>4938.356295</td>\n",
       "      <td>50000</td>\n",
       "      <td>24</td>\n",
       "      <td>122</td>\n",
       "      <td>5</td>\n",
       "    </tr>\n",
       "    <tr>\n",
       "      <th>4</th>\n",
       "      <td>5</td>\n",
       "      <td>67359</td>\n",
       "      <td>391.622093</td>\n",
       "      <td>1183.405909</td>\n",
       "      <td>10000</td>\n",
       "      <td>22</td>\n",
       "      <td>172</td>\n",
       "      <td>2</td>\n",
       "    </tr>\n",
       "  </tbody>\n",
       "</table>\n",
       "</div>"
      ],
      "text/plain": [
       "   client_num  total_amount   mean_amount    std_amount  max_amount  \\\n",
       "0           1        863878   3599.491667  11704.843812      100000   \n",
       "1           2        344108   1147.026667   2629.178018       24496   \n",
       "2           3       1621825  11032.823129  86498.559476     1000000   \n",
       "3           4        199796   1637.672131   4938.356295       50000   \n",
       "4           5         67359    391.622093   1183.405909       10000   \n",
       "\n",
       "   min_amount  txn_count  target  \n",
       "0           6        240       4  \n",
       "1          23        300       5  \n",
       "2           1        147       3  \n",
       "3          24        122       5  \n",
       "4          22        172       2  "
      ]
     },
     "execution_count": 8,
     "metadata": {},
     "output_type": "execute_result"
    }
   ],
   "source": [
    "agg_train_with_target.head()"
   ]
  },
  {
   "cell_type": "markdown",
   "id": "8adfc660",
   "metadata": {
    "papermill": {
     "duration": 0.003655,
     "end_time": "2025-06-22T14:00:10.815019",
     "exception": false,
     "start_time": "2025-06-22T14:00:10.811364",
     "status": "completed"
    },
    "tags": []
   },
   "source": [
    "**Обучение модели**"
   ]
  },
  {
   "cell_type": "code",
   "execution_count": 9,
   "id": "d3169a68",
   "metadata": {
    "execution": {
     "iopub.execute_input": "2025-06-22T14:00:10.824981Z",
     "iopub.status.busy": "2025-06-22T14:00:10.824665Z",
     "iopub.status.idle": "2025-06-22T14:00:12.657391Z",
     "shell.execute_reply": "2025-06-22T14:00:12.656390Z"
    },
    "papermill": {
     "duration": 1.839945,
     "end_time": "2025-06-22T14:00:12.659322",
     "exception": false,
     "start_time": "2025-06-22T14:00:10.819377",
     "status": "completed"
    },
    "tags": []
   },
   "outputs": [],
   "source": [
    "from sklearn.model_selection import train_test_split\n",
    "\n",
    "# Разделение признаков и целевую переменную\n",
    "X = agg_train_with_target.drop(columns=['client_num','target'])\n",
    "y = agg_train_with_target['target']\n",
    "\n",
    "# Разделение на тестовую и валидационную выборки\n",
    "X_train, X_test, y_train, y_test = train_test_split(X, y, stratify=y, test_size=0.2, random_state=42)\n"
   ]
  },
  {
   "cell_type": "code",
   "execution_count": 10,
   "id": "076b3440",
   "metadata": {
    "execution": {
     "iopub.execute_input": "2025-06-22T14:00:12.674487Z",
     "iopub.status.busy": "2025-06-22T14:00:12.673892Z",
     "iopub.status.idle": "2025-06-22T14:00:13.124598Z",
     "shell.execute_reply": "2025-06-22T14:00:13.123564Z"
    },
    "papermill": {
     "duration": 0.460323,
     "end_time": "2025-06-22T14:00:13.126477",
     "exception": false,
     "start_time": "2025-06-22T14:00:12.666154",
     "status": "completed"
    },
    "tags": []
   },
   "outputs": [],
   "source": [
    "from sklearn.ensemble import RandomForestClassifier\n",
    "from sklearn.metrics import classification_report, confusion_matrix\n",
    "from sklearn.model_selection import train_test_split"
   ]
  },
  {
   "cell_type": "code",
   "execution_count": 11,
   "id": "b3457efa",
   "metadata": {
    "execution": {
     "iopub.execute_input": "2025-06-22T14:00:13.137290Z",
     "iopub.status.busy": "2025-06-22T14:00:13.136943Z",
     "iopub.status.idle": "2025-06-22T14:00:22.982047Z",
     "shell.execute_reply": "2025-06-22T14:00:22.980866Z"
    },
    "papermill": {
     "duration": 9.852058,
     "end_time": "2025-06-22T14:00:22.983773",
     "exception": false,
     "start_time": "2025-06-22T14:00:13.131715",
     "status": "completed"
    },
    "tags": []
   },
   "outputs": [
    {
     "data": {
      "text/html": [
       "<style>#sk-container-id-1 {color: black;background-color: white;}#sk-container-id-1 pre{padding: 0;}#sk-container-id-1 div.sk-toggleable {background-color: white;}#sk-container-id-1 label.sk-toggleable__label {cursor: pointer;display: block;width: 100%;margin-bottom: 0;padding: 0.3em;box-sizing: border-box;text-align: center;}#sk-container-id-1 label.sk-toggleable__label-arrow:before {content: \"▸\";float: left;margin-right: 0.25em;color: #696969;}#sk-container-id-1 label.sk-toggleable__label-arrow:hover:before {color: black;}#sk-container-id-1 div.sk-estimator:hover label.sk-toggleable__label-arrow:before {color: black;}#sk-container-id-1 div.sk-toggleable__content {max-height: 0;max-width: 0;overflow: hidden;text-align: left;background-color: #f0f8ff;}#sk-container-id-1 div.sk-toggleable__content pre {margin: 0.2em;color: black;border-radius: 0.25em;background-color: #f0f8ff;}#sk-container-id-1 input.sk-toggleable__control:checked~div.sk-toggleable__content {max-height: 200px;max-width: 100%;overflow: auto;}#sk-container-id-1 input.sk-toggleable__control:checked~label.sk-toggleable__label-arrow:before {content: \"▾\";}#sk-container-id-1 div.sk-estimator input.sk-toggleable__control:checked~label.sk-toggleable__label {background-color: #d4ebff;}#sk-container-id-1 div.sk-label input.sk-toggleable__control:checked~label.sk-toggleable__label {background-color: #d4ebff;}#sk-container-id-1 input.sk-hidden--visually {border: 0;clip: rect(1px 1px 1px 1px);clip: rect(1px, 1px, 1px, 1px);height: 1px;margin: -1px;overflow: hidden;padding: 0;position: absolute;width: 1px;}#sk-container-id-1 div.sk-estimator {font-family: monospace;background-color: #f0f8ff;border: 1px dotted black;border-radius: 0.25em;box-sizing: border-box;margin-bottom: 0.5em;}#sk-container-id-1 div.sk-estimator:hover {background-color: #d4ebff;}#sk-container-id-1 div.sk-parallel-item::after {content: \"\";width: 100%;border-bottom: 1px solid gray;flex-grow: 1;}#sk-container-id-1 div.sk-label:hover label.sk-toggleable__label {background-color: #d4ebff;}#sk-container-id-1 div.sk-serial::before {content: \"\";position: absolute;border-left: 1px solid gray;box-sizing: border-box;top: 0;bottom: 0;left: 50%;z-index: 0;}#sk-container-id-1 div.sk-serial {display: flex;flex-direction: column;align-items: center;background-color: white;padding-right: 0.2em;padding-left: 0.2em;position: relative;}#sk-container-id-1 div.sk-item {position: relative;z-index: 1;}#sk-container-id-1 div.sk-parallel {display: flex;align-items: stretch;justify-content: center;background-color: white;position: relative;}#sk-container-id-1 div.sk-item::before, #sk-container-id-1 div.sk-parallel-item::before {content: \"\";position: absolute;border-left: 1px solid gray;box-sizing: border-box;top: 0;bottom: 0;left: 50%;z-index: -1;}#sk-container-id-1 div.sk-parallel-item {display: flex;flex-direction: column;z-index: 1;position: relative;background-color: white;}#sk-container-id-1 div.sk-parallel-item:first-child::after {align-self: flex-end;width: 50%;}#sk-container-id-1 div.sk-parallel-item:last-child::after {align-self: flex-start;width: 50%;}#sk-container-id-1 div.sk-parallel-item:only-child::after {width: 0;}#sk-container-id-1 div.sk-dashed-wrapped {border: 1px dashed gray;margin: 0 0.4em 0.5em 0.4em;box-sizing: border-box;padding-bottom: 0.4em;background-color: white;}#sk-container-id-1 div.sk-label label {font-family: monospace;font-weight: bold;display: inline-block;line-height: 1.2em;}#sk-container-id-1 div.sk-label-container {text-align: center;}#sk-container-id-1 div.sk-container {/* jupyter's `normalize.less` sets `[hidden] { display: none; }` but bootstrap.min.css set `[hidden] { display: none !important; }` so we also need the `!important` here to be able to override the default hidden behavior on the sphinx rendered scikit-learn.org. See: https://github.com/scikit-learn/scikit-learn/issues/21755 */display: inline-block !important;position: relative;}#sk-container-id-1 div.sk-text-repr-fallback {display: none;}</style><div id=\"sk-container-id-1\" class=\"sk-top-container\"><div class=\"sk-text-repr-fallback\"><pre>RandomForestClassifier(class_weight=&#x27;balanced&#x27;, max_depth=10, random_state=42)</pre><b>In a Jupyter environment, please rerun this cell to show the HTML representation or trust the notebook. <br />On GitHub, the HTML representation is unable to render, please try loading this page with nbviewer.org.</b></div><div class=\"sk-container\" hidden><div class=\"sk-item\"><div class=\"sk-estimator sk-toggleable\"><input class=\"sk-toggleable__control sk-hidden--visually\" id=\"sk-estimator-id-1\" type=\"checkbox\" checked><label for=\"sk-estimator-id-1\" class=\"sk-toggleable__label sk-toggleable__label-arrow\">RandomForestClassifier</label><div class=\"sk-toggleable__content\"><pre>RandomForestClassifier(class_weight=&#x27;balanced&#x27;, max_depth=10, random_state=42)</pre></div></div></div></div></div>"
      ],
      "text/plain": [
       "RandomForestClassifier(class_weight='balanced', max_depth=10, random_state=42)"
      ]
     },
     "execution_count": 11,
     "metadata": {},
     "output_type": "execute_result"
    }
   ],
   "source": [
    "# Обучение модели\n",
    "clf = RandomForestClassifier(\n",
    "    n_estimators=100,\n",
    "    max_depth=10,\n",
    "    class_weight='balanced', \n",
    "    random_state=42\n",
    ")\n",
    "clf.fit(X_train, y_train)"
   ]
  },
  {
   "cell_type": "code",
   "execution_count": 12,
   "id": "299ab67c",
   "metadata": {
    "execution": {
     "iopub.execute_input": "2025-06-22T14:00:22.993518Z",
     "iopub.status.busy": "2025-06-22T14:00:22.993194Z",
     "iopub.status.idle": "2025-06-22T14:00:23.286552Z",
     "shell.execute_reply": "2025-06-22T14:00:23.285482Z"
    },
    "papermill": {
     "duration": 0.29997,
     "end_time": "2025-06-22T14:00:23.288121",
     "exception": false,
     "start_time": "2025-06-22T14:00:22.988151",
     "status": "completed"
    },
    "tags": []
   },
   "outputs": [
    {
     "name": "stdout",
     "output_type": "stream",
     "text": [
      "              precision    recall  f1-score   support\n",
      "\n",
      "           0      0.335     0.406     0.367      3018\n",
      "           1      0.412     0.295     0.344      3604\n",
      "           2      0.193     0.114     0.144      1975\n",
      "           3      0.171     0.178     0.175      1597\n",
      "           4      0.237     0.273     0.253      1607\n",
      "           5      0.173     0.170     0.172      1101\n",
      "           6      0.172     0.314     0.222      1098\n",
      "\n",
      "    accuracy                          0.269     14000\n",
      "   macro avg      0.242     0.250     0.239     14000\n",
      "weighted avg      0.279     0.269     0.268     14000\n",
      "\n",
      "[[1226  668  183  240  185  121  395]\n",
      " [1032 1062  355  400  281  140  334]\n",
      " [ 441  399  226  320  231  114  244]\n",
      " [ 273  197  155  284  360  132  196]\n",
      " [ 257  115  114  217  438  213  253]\n",
      " [ 215   82   63   90  223  187  241]\n",
      " [ 213   54   77  105  132  172  345]]\n"
     ]
    }
   ],
   "source": [
    "# Предсказание\n",
    "y_pred = clf.predict(X_test)\n",
    "\n",
    "# Оценка\n",
    "print(classification_report(y_test, y_pred, digits=3))\n",
    "print(confusion_matrix(y_test, y_pred))"
   ]
  },
  {
   "cell_type": "markdown",
   "id": "ea675b63",
   "metadata": {
    "papermill": {
     "duration": 0.004145,
     "end_time": "2025-06-22T14:00:23.296529",
     "exception": false,
     "start_time": "2025-06-22T14:00:23.292384",
     "status": "completed"
    },
    "tags": []
   },
   "source": [
    "**WMAE**"
   ]
  },
  {
   "cell_type": "code",
   "execution_count": 13,
   "id": "32a7eb41",
   "metadata": {
    "execution": {
     "iopub.execute_input": "2025-06-22T14:00:23.307702Z",
     "iopub.status.busy": "2025-06-22T14:00:23.307324Z",
     "iopub.status.idle": "2025-06-22T14:00:23.318462Z",
     "shell.execute_reply": "2025-06-22T14:00:23.317383Z"
    },
    "papermill": {
     "duration": 0.0181,
     "end_time": "2025-06-22T14:00:23.320170",
     "exception": false,
     "start_time": "2025-06-22T14:00:23.302070",
     "status": "completed"
    },
    "tags": []
   },
   "outputs": [
    {
     "name": "stdout",
     "output_type": "stream",
     "text": [
      "WMAE: 1.6746948329320082\n"
     ]
    }
   ],
   "source": [
    "# Веса по классам\n",
    "class_weights = {\n",
    "    0: 1.00,\n",
    "    1: 0.72,\n",
    "    2: 0.52,\n",
    "    3: 0.37,\n",
    "    4: 0.27,\n",
    "    5: 0.19,\n",
    "    6: 0.14,\n",
    "    7: 0.1\n",
    "}\n",
    "\n",
    "def wmae(y_true, y_pred, weights_map):\n",
    "    weights = np.array([weights_map.get(y, 0.0) for y in y_true])\n",
    "    abs_errors = np.abs(y_true - y_pred)\n",
    "    return np.sum(weights * abs_errors) / np.sum(weights)\n",
    "\n",
    "wmae_score = wmae(y_test, y_pred, class_weights)\n",
    "print(\"WMAE:\", wmae_score)"
   ]
  },
  {
   "cell_type": "code",
   "execution_count": 14,
   "id": "f6600142",
   "metadata": {
    "execution": {
     "iopub.execute_input": "2025-06-22T14:00:23.330691Z",
     "iopub.status.busy": "2025-06-22T14:00:23.330278Z",
     "iopub.status.idle": "2025-06-22T14:00:23.964564Z",
     "shell.execute_reply": "2025-06-22T14:00:23.963654Z"
    },
    "papermill": {
     "duration": 0.64147,
     "end_time": "2025-06-22T14:00:23.966602",
     "exception": false,
     "start_time": "2025-06-22T14:00:23.325132",
     "status": "completed"
    },
    "tags": []
   },
   "outputs": [],
   "source": [
    "X_test_2 = agg_test.drop(columns=['client_num'])\n",
    "y_pred_2 = clf.predict(X_test_2)"
   ]
  },
  {
   "cell_type": "code",
   "execution_count": 15,
   "id": "683b349b",
   "metadata": {
    "execution": {
     "iopub.execute_input": "2025-06-22T14:00:23.977348Z",
     "iopub.status.busy": "2025-06-22T14:00:23.977022Z",
     "iopub.status.idle": "2025-06-22T14:00:23.983128Z",
     "shell.execute_reply": "2025-06-22T14:00:23.981920Z"
    },
    "papermill": {
     "duration": 0.014222,
     "end_time": "2025-06-22T14:00:23.985117",
     "exception": false,
     "start_time": "2025-06-22T14:00:23.970895",
     "status": "completed"
    },
    "tags": []
   },
   "outputs": [],
   "source": [
    "with open('/kaggle/working/pred.txt','w') as f:\n",
    "    f.write(f'{y_pred_2}')"
   ]
  }
 ],
 "metadata": {
  "kaggle": {
   "accelerator": "none",
   "dataSources": [
    {
     "databundleVersionId": 12637092,
     "sourceId": 104854,
     "sourceType": "competition"
    }
   ],
   "dockerImageVersionId": 31040,
   "isGpuEnabled": false,
   "isInternetEnabled": true,
   "language": "python",
   "sourceType": "notebook"
  },
  "kernelspec": {
   "display_name": "Python 3",
   "language": "python",
   "name": "python3"
  },
  "language_info": {
   "codemirror_mode": {
    "name": "ipython",
    "version": 3
   },
   "file_extension": ".py",
   "mimetype": "text/x-python",
   "name": "python",
   "nbconvert_exporter": "python",
   "pygments_lexer": "ipython3",
   "version": "3.11.11"
  },
  "papermill": {
   "default_parameters": {},
   "duration": 31.358918,
   "end_time": "2025-06-22T14:00:25.013706",
   "environment_variables": {},
   "exception": null,
   "input_path": "__notebook__.ipynb",
   "output_path": "__notebook__.ipynb",
   "parameters": {},
   "start_time": "2025-06-22T13:59:53.654788",
   "version": "2.6.0"
  }
 },
 "nbformat": 4,
 "nbformat_minor": 5
}
